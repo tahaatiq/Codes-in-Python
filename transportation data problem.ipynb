{
 "cells": [
  {
   "cell_type": "markdown",
   "metadata": {},
   "source": [
    "## **Problem Statement**\n",
    "\n",
    "Provide the level of education of the group with the highest number of “No second Crime”.\n",
    "2. Provide the number of offenders with high school degrees who were convicted of driving with\n",
    "Blood Alcohol Concentration (BAC) of 0.15 or higher in their second conviction.\n",
    "3. Provide the min, max and average age of the sample.\n",
    "4. Provide the number of married females aged 30-39 who were convicted of registering BAC of\n",
    "0.15 or higher in their second conviction.\n",
    "5. Provide the number of unmarried females convicted of registering a BAC of 0.10 to 0.11 in\n",
    "their second crime.\n",
    "6. Identify areas that require further research/investigation.\n",
    "7. Identify policies or countermeasures to curb re-offending that you would recommend based\n",
    "on the knowledge gleaned from this data set.\n",
    "\n",
    "**Data Dictionary**\n",
    "\n",
    "Name - Name of the person\n",
    "<br>\n",
    "Net worth in billions - Net worth of the person in billions\n",
    "<br>\n",
    "Country - Country where the person is from\n",
    "<br>\n",
    "Source - Source of the income\n",
    "<br>\n",
    "Rank - Rank of the person in the Billionaires list\n",
    "<br>\n",
    "Age - Age of the person\n",
    "<br>\n",
    "Industry - Industry to which the person is related to"
   ]
  },
  {
   "cell_type": "code",
   "execution_count": 1,
   "metadata": {
    "ExecuteTime": {
     "end_time": "2021-06-10T05:17:01.435413Z",
     "start_time": "2021-06-10T05:17:01.412953Z"
    }
   },
   "outputs": [],
   "source": [
    "# importing libraries\n",
    "import numpy as np \n",
    "import pandas as pd\n",
    "import matplotlib.pyplot as plt\n",
    "%matplotlib inline\n",
    "import seaborn as sns "
   ]
  },
  {
   "cell_type": "code",
   "execution_count": 3,
   "metadata": {
    "ExecuteTime": {
     "end_time": "2021-06-10T05:17:01.964806Z",
     "start_time": "2021-06-10T05:17:01.941966Z"
    }
   },
   "outputs": [
    {
     "name": "stdout",
     "output_type": "stream",
     "text": [
      "WARNING *** OLE2 inconsistency: SSCS size is 0 but SSAT size is non-zero\n"
     ]
    }
   ],
   "source": [
    "df = pd.read_excel('transportdata.xls') #loading dataset"
   ]
  },
  {
   "cell_type": "code",
   "execution_count": 4,
   "metadata": {
    "ExecuteTime": {
     "end_time": "2021-06-10T05:17:02.339539Z",
     "start_time": "2021-06-10T05:17:02.307528Z"
    }
   },
   "outputs": [
    {
     "data": {
      "text/html": [
       "<div>\n",
       "<style scoped>\n",
       "    .dataframe tbody tr th:only-of-type {\n",
       "        vertical-align: middle;\n",
       "    }\n",
       "\n",
       "    .dataframe tbody tr th {\n",
       "        vertical-align: top;\n",
       "    }\n",
       "\n",
       "    .dataframe thead th {\n",
       "        text-align: right;\n",
       "    }\n",
       "</style>\n",
       "<table border=\"1\" class=\"dataframe\">\n",
       "  <thead>\n",
       "    <tr style=\"text-align: right;\">\n",
       "      <th></th>\n",
       "      <th>age</th>\n",
       "      <th>agecat</th>\n",
       "      <th>marital</th>\n",
       "      <th>social</th>\n",
       "      <th>ed</th>\n",
       "      <th>employ</th>\n",
       "      <th>gender</th>\n",
       "      <th>crime1</th>\n",
       "      <th>time</th>\n",
       "      <th>crime2</th>\n",
       "    </tr>\n",
       "  </thead>\n",
       "  <tbody>\n",
       "    <tr>\n",
       "      <th>0</th>\n",
       "      <td>22</td>\n",
       "      <td>22-29</td>\n",
       "      <td>Unmarried</td>\n",
       "      <td>Lower class</td>\n",
       "      <td>Did not complete high school</td>\n",
       "      <td>Yes</td>\n",
       "      <td>Male</td>\n",
       "      <td>BAC 0.08</td>\n",
       "      <td>74</td>\n",
       "      <td>BAC 0.12 to 0.14</td>\n",
       "    </tr>\n",
       "    <tr>\n",
       "      <th>1</th>\n",
       "      <td>19</td>\n",
       "      <td>18-21</td>\n",
       "      <td>Unmarried</td>\n",
       "      <td>Lower class</td>\n",
       "      <td>High school degree</td>\n",
       "      <td>No</td>\n",
       "      <td>Female</td>\n",
       "      <td>BAC 0.09</td>\n",
       "      <td>239</td>\n",
       "      <td>BAC 0.10 to 0.11</td>\n",
       "    </tr>\n",
       "    <tr>\n",
       "      <th>2</th>\n",
       "      <td>28</td>\n",
       "      <td>22-29</td>\n",
       "      <td>Unmarried</td>\n",
       "      <td>Upper class</td>\n",
       "      <td>Did not complete high school</td>\n",
       "      <td>No</td>\n",
       "      <td>Male</td>\n",
       "      <td>BAC 0.08</td>\n",
       "      <td>208</td>\n",
       "      <td>BAC 0.08</td>\n",
       "    </tr>\n",
       "    <tr>\n",
       "      <th>3</th>\n",
       "      <td>36</td>\n",
       "      <td>30-39</td>\n",
       "      <td>Married</td>\n",
       "      <td>Upper class</td>\n",
       "      <td>High school degree</td>\n",
       "      <td>Yes</td>\n",
       "      <td>Male</td>\n",
       "      <td>BAC 0.08</td>\n",
       "      <td>9999</td>\n",
       "      <td>No second crime</td>\n",
       "    </tr>\n",
       "    <tr>\n",
       "      <th>4</th>\n",
       "      <td>27</td>\n",
       "      <td>22-29</td>\n",
       "      <td>Married</td>\n",
       "      <td>Middle class</td>\n",
       "      <td>High school degree</td>\n",
       "      <td>No</td>\n",
       "      <td>Male</td>\n",
       "      <td>BAC 0.08</td>\n",
       "      <td>9999</td>\n",
       "      <td>No second crime</td>\n",
       "    </tr>\n",
       "  </tbody>\n",
       "</table>\n",
       "</div>"
      ],
      "text/plain": [
       "   age agecat    marital        social                            ed employ  \\\n",
       "0   22  22-29  Unmarried   Lower class  Did not complete high school    Yes   \n",
       "1   19  18-21  Unmarried   Lower class            High school degree     No   \n",
       "2   28  22-29  Unmarried   Upper class  Did not complete high school     No   \n",
       "3   36  30-39    Married   Upper class            High school degree    Yes   \n",
       "4   27  22-29    Married  Middle class            High school degree     No   \n",
       "\n",
       "   gender    crime1  time            crime2  \n",
       "0    Male  BAC 0.08    74  BAC 0.12 to 0.14  \n",
       "1  Female  BAC 0.09   239  BAC 0.10 to 0.11  \n",
       "2    Male  BAC 0.08   208          BAC 0.08  \n",
       "3    Male  BAC 0.08  9999   No second crime  \n",
       "4    Male  BAC 0.08  9999   No second crime  "
      ]
     },
     "execution_count": 4,
     "metadata": {},
     "output_type": "execute_result"
    }
   ],
   "source": [
    "df.head()"
   ]
  },
  {
   "cell_type": "code",
   "execution_count": 5,
   "metadata": {
    "ExecuteTime": {
     "end_time": "2021-06-10T05:17:02.647182Z",
     "start_time": "2021-06-10T05:17:02.627530Z"
    }
   },
   "outputs": [
    {
     "data": {
      "text/plain": [
       "(1000, 10)"
      ]
     },
     "execution_count": 5,
     "metadata": {},
     "output_type": "execute_result"
    }
   ],
   "source": [
    "df.shape"
   ]
  },
  {
   "cell_type": "code",
   "execution_count": 6,
   "metadata": {
    "ExecuteTime": {
     "end_time": "2021-06-10T05:17:03.018995Z",
     "start_time": "2021-06-10T05:17:02.982351Z"
    }
   },
   "outputs": [
    {
     "name": "stdout",
     "output_type": "stream",
     "text": [
      "<class 'pandas.core.frame.DataFrame'>\n",
      "RangeIndex: 1000 entries, 0 to 999\n",
      "Data columns (total 10 columns):\n",
      " #   Column   Non-Null Count  Dtype \n",
      "---  ------   --------------  ----- \n",
      " 0   age      1000 non-null   int64 \n",
      " 1   agecat   1000 non-null   object\n",
      " 2   marital  1000 non-null   object\n",
      " 3   social   1000 non-null   object\n",
      " 4   ed       1000 non-null   object\n",
      " 5   employ   1000 non-null   object\n",
      " 6   gender   1000 non-null   object\n",
      " 7   crime1   1000 non-null   object\n",
      " 8   time     1000 non-null   int64 \n",
      " 9   crime2   1000 non-null   object\n",
      "dtypes: int64(2), object(8)\n",
      "memory usage: 78.2+ KB\n"
     ]
    }
   ],
   "source": [
    "df.info() #The Datatypes of the columns in the dataframe"
   ]
  },
  {
   "cell_type": "code",
   "execution_count": 7,
   "metadata": {
    "ExecuteTime": {
     "end_time": "2021-06-10T05:17:03.813480Z",
     "start_time": "2021-06-10T05:17:03.793781Z"
    }
   },
   "outputs": [
    {
     "data": {
      "text/plain": [
       "0"
      ]
     },
     "execution_count": 7,
     "metadata": {},
     "output_type": "execute_result"
    }
   ],
   "source": [
    "df.isnull().sum().sum() #Checking for missing values"
   ]
  },
  {
   "cell_type": "code",
   "execution_count": 8,
   "metadata": {
    "ExecuteTime": {
     "end_time": "2021-06-10T05:17:04.514713Z",
     "start_time": "2021-06-10T05:17:04.497632Z"
    }
   },
   "outputs": [
    {
     "data": {
      "text/plain": [
       "age        0\n",
       "agecat     0\n",
       "marital    0\n",
       "social     0\n",
       "ed         0\n",
       "employ     0\n",
       "gender     0\n",
       "crime1     0\n",
       "time       0\n",
       "crime2     0\n",
       "dtype: int64"
      ]
     },
     "execution_count": 8,
     "metadata": {},
     "output_type": "execute_result"
    }
   ],
   "source": [
    "df.isnull().sum()"
   ]
  },
  {
   "cell_type": "markdown",
   "metadata": {},
   "source": [
    "### Plots & Its use"
   ]
  },
  {
   "cell_type": "code",
   "execution_count": 10,
   "metadata": {
    "ExecuteTime": {
     "end_time": "2021-06-10T05:17:06.018346Z",
     "start_time": "2021-06-10T05:17:05.732495Z"
    }
   },
   "outputs": [
    {
     "data": {
      "image/png": "[encoded data removed]",
      "text/plain": [
       "<Figure size 360x504 with 1 Axes>"
      ]
     },
     "metadata": {
      "needs_background": "light"
     },
     "output_type": "display_data"
    }
   ],
   "source": [
    "plt.figure(figsize=(5,7)) #Boxplot - helps in checking for Outliers\n",
    "sns.boxplot(x = 'age', data = df, showmeans=True)\n",
    "plt.show() "
   ]
  },
  {
   "cell_type": "markdown",
   "metadata": {},
   "source": [
    "#Provide the min, max and average age of the sample."
   ]
  },
  {
   "cell_type": "code",
   "execution_count": 13,
   "metadata": {
    "ExecuteTime": {
     "end_time": "2021-06-10T05:17:07.185328Z",
     "start_time": "2021-06-10T05:17:07.134496Z"
    }
   },
   "outputs": [
    {
     "data": {
      "text/html": [
       "<div>\n",
       "<style scoped>\n",
       "    .dataframe tbody tr th:only-of-type {\n",
       "        vertical-align: middle;\n",
       "    }\n",
       "\n",
       "    .dataframe tbody tr th {\n",
       "        vertical-align: top;\n",
       "    }\n",
       "\n",
       "    .dataframe thead th {\n",
       "        text-align: right;\n",
       "    }\n",
       "</style>\n",
       "<table border=\"1\" class=\"dataframe\">\n",
       "  <thead>\n",
       "    <tr style=\"text-align: right;\">\n",
       "      <th></th>\n",
       "      <th>age</th>\n",
       "    </tr>\n",
       "  </thead>\n",
       "  <tbody>\n",
       "    <tr>\n",
       "      <th>count</th>\n",
       "      <td>1000.000000</td>\n",
       "    </tr>\n",
       "    <tr>\n",
       "      <th>mean</th>\n",
       "      <td>28.074000</td>\n",
       "    </tr>\n",
       "    <tr>\n",
       "      <th>std</th>\n",
       "      <td>8.078601</td>\n",
       "    </tr>\n",
       "    <tr>\n",
       "      <th>min</th>\n",
       "      <td>18.000000</td>\n",
       "    </tr>\n",
       "    <tr>\n",
       "      <th>25%</th>\n",
       "      <td>21.000000</td>\n",
       "    </tr>\n",
       "    <tr>\n",
       "      <th>50%</th>\n",
       "      <td>26.000000</td>\n",
       "    </tr>\n",
       "    <tr>\n",
       "      <th>75%</th>\n",
       "      <td>33.000000</td>\n",
       "    </tr>\n",
       "    <tr>\n",
       "      <th>max</th>\n",
       "      <td>55.000000</td>\n",
       "    </tr>\n",
       "  </tbody>\n",
       "</table>\n",
       "</div>"
      ],
      "text/plain": [
       "               age\n",
       "count  1000.000000\n",
       "mean     28.074000\n",
       "std       8.078601\n",
       "min      18.000000\n",
       "25%      21.000000\n",
       "50%      26.000000\n",
       "75%      33.000000\n",
       "max      55.000000"
      ]
     },
     "execution_count": 13,
     "metadata": {},
     "output_type": "execute_result"
    }
   ],
   "source": [
    "df[['age']].describe()"
   ]
  },
  {
   "cell_type": "markdown",
   "metadata": {},
   "source": [
    "#### Distribution of Age variable"
   ]
  },
  {
   "cell_type": "markdown",
   "metadata": {},
   "source": [
    "\n",
    "mean = 28 \n",
    "minimum = 18\n",
    "maximum = 55"
   ]
  },
  {
   "cell_type": "markdown",
   "metadata": {},
   "source": [
    "#### distplot"
   ]
  },
  {
   "cell_type": "code",
   "execution_count": 12,
   "metadata": {
    "ExecuteTime": {
     "end_time": "2021-06-10T05:17:09.904537Z",
     "start_time": "2021-06-10T05:17:09.402195Z"
    }
   },
   "outputs": [
    {
     "data": {
      "image/png": "[encoded data removed]",
      "text/plain": [
       "<Figure size 360x360 with 1 Axes>"
      ]
     },
     "metadata": {
      "needs_background": "light"
     },
     "output_type": "display_data"
    }
   ],
   "source": [
    "sns.displot(df[\"age\"],kde = False, color = 'red',bins=6)\n",
    "plt.show()"
   ]
  },
  {
   "cell_type": "markdown",
   "metadata": {},
   "source": [
    "#Provide the level of education of the group with the highest number of “No second Crime”."
   ]
  },
  {
   "cell_type": "code",
   "execution_count": 19,
   "metadata": {},
   "outputs": [
    {
     "data": {
      "text/plain": [
       "No second crime       353\n",
       "BAC 0.08              187\n",
       "BAC 0.09              155\n",
       "BAC 0.10 to 0.11      135\n",
       "BAC 0.12 to 0.14       97\n",
       "BAC 0.15 or higher     73\n",
       "Name: crime2, dtype: int64"
      ]
     },
     "execution_count": 19,
     "metadata": {},
     "output_type": "execute_result"
    }
   ],
   "source": [
    "df.crime2.value_counts()"
   ]
  },
  {
   "cell_type": "code",
   "execution_count": 26,
   "metadata": {},
   "outputs": [
    {
     "data": {
      "text/plain": [
       "Did not complete high school    146\n",
       "High school degree              140\n",
       "College degree                   54\n",
       "Post-undergraduate degree        13\n",
       "Name: ed, dtype: int64"
      ]
     },
     "execution_count": 26,
     "metadata": {},
     "output_type": "execute_result"
    }
   ],
   "source": [
    "classwithnosecondcrime=df[df['crime2']=='No second crime']['ed'].value_counts()\n",
    "classwithnosecondcrime"
   ]
  },
  {
   "cell_type": "code",
   "execution_count": 22,
   "metadata": {},
   "outputs": [],
   "source": [
    "nosecondcrime=df[df['crime2']=='No second crime']"
   ]
  },
  {
   "cell_type": "code",
   "execution_count": 28,
   "metadata": {},
   "outputs": [
    {
     "data": {
      "text/plain": [
       "Did not complete high school    146\n",
       "High school degree              140\n",
       "College degree                   54\n",
       "Post-undergraduate degree        13\n",
       "Name: ed, dtype: int64"
      ]
     },
     "execution_count": 28,
     "metadata": {},
     "output_type": "execute_result"
    }
   ],
   "source": [
    "nosecondcrime['ed'].value_counts()"
   ]
  },
  {
   "cell_type": "markdown",
   "metadata": {},
   "source": [
    "#Provide the number of offenders with high school degrees who were convicted of driving with Blood Alcohol Concentration (BAC) of 0.15 or higher in their second conviction."
   ]
  },
  {
   "cell_type": "code",
   "execution_count": 31,
   "metadata": {},
   "outputs": [
    {
     "data": {
      "text/html": [
       "<div>\n",
       "<style scoped>\n",
       "    .dataframe tbody tr th:only-of-type {\n",
       "        vertical-align: middle;\n",
       "    }\n",
       "\n",
       "    .dataframe tbody tr th {\n",
       "        vertical-align: top;\n",
       "    }\n",
       "\n",
       "    .dataframe thead th {\n",
       "        text-align: right;\n",
       "    }\n",
       "</style>\n",
       "<table border=\"1\" class=\"dataframe\">\n",
       "  <thead>\n",
       "    <tr style=\"text-align: right;\">\n",
       "      <th></th>\n",
       "      <th>age</th>\n",
       "      <th>agecat</th>\n",
       "      <th>marital</th>\n",
       "      <th>social</th>\n",
       "      <th>ed</th>\n",
       "      <th>employ</th>\n",
       "      <th>gender</th>\n",
       "      <th>crime1</th>\n",
       "      <th>time</th>\n",
       "      <th>crime2</th>\n",
       "    </tr>\n",
       "  </thead>\n",
       "  <tbody>\n",
       "    <tr>\n",
       "      <th>1</th>\n",
       "      <td>19</td>\n",
       "      <td>18-21</td>\n",
       "      <td>Unmarried</td>\n",
       "      <td>Lower class</td>\n",
       "      <td>High school degree</td>\n",
       "      <td>No</td>\n",
       "      <td>Female</td>\n",
       "      <td>BAC 0.09</td>\n",
       "      <td>239</td>\n",
       "      <td>BAC 0.10 to 0.11</td>\n",
       "    </tr>\n",
       "    <tr>\n",
       "      <th>3</th>\n",
       "      <td>36</td>\n",
       "      <td>30-39</td>\n",
       "      <td>Married</td>\n",
       "      <td>Upper class</td>\n",
       "      <td>High school degree</td>\n",
       "      <td>Yes</td>\n",
       "      <td>Male</td>\n",
       "      <td>BAC 0.08</td>\n",
       "      <td>9999</td>\n",
       "      <td>No second crime</td>\n",
       "    </tr>\n",
       "    <tr>\n",
       "      <th>4</th>\n",
       "      <td>27</td>\n",
       "      <td>22-29</td>\n",
       "      <td>Married</td>\n",
       "      <td>Middle class</td>\n",
       "      <td>High school degree</td>\n",
       "      <td>No</td>\n",
       "      <td>Male</td>\n",
       "      <td>BAC 0.08</td>\n",
       "      <td>9999</td>\n",
       "      <td>No second crime</td>\n",
       "    </tr>\n",
       "    <tr>\n",
       "      <th>5</th>\n",
       "      <td>29</td>\n",
       "      <td>22-29</td>\n",
       "      <td>Married</td>\n",
       "      <td>Middle class</td>\n",
       "      <td>High school degree</td>\n",
       "      <td>Yes</td>\n",
       "      <td>Male</td>\n",
       "      <td>BAC 0.15 or higher</td>\n",
       "      <td>287</td>\n",
       "      <td>BAC 0.10 to 0.11</td>\n",
       "    </tr>\n",
       "    <tr>\n",
       "      <th>6</th>\n",
       "      <td>24</td>\n",
       "      <td>22-29</td>\n",
       "      <td>Unmarried</td>\n",
       "      <td>Lower class</td>\n",
       "      <td>High school degree</td>\n",
       "      <td>Yes</td>\n",
       "      <td>Male</td>\n",
       "      <td>BAC 0.10 to 0.11</td>\n",
       "      <td>528</td>\n",
       "      <td>BAC 0.08</td>\n",
       "    </tr>\n",
       "    <tr>\n",
       "      <th>...</th>\n",
       "      <td>...</td>\n",
       "      <td>...</td>\n",
       "      <td>...</td>\n",
       "      <td>...</td>\n",
       "      <td>...</td>\n",
       "      <td>...</td>\n",
       "      <td>...</td>\n",
       "      <td>...</td>\n",
       "      <td>...</td>\n",
       "      <td>...</td>\n",
       "    </tr>\n",
       "    <tr>\n",
       "      <th>973</th>\n",
       "      <td>32</td>\n",
       "      <td>30-39</td>\n",
       "      <td>Married</td>\n",
       "      <td>Lower class</td>\n",
       "      <td>High school degree</td>\n",
       "      <td>Yes</td>\n",
       "      <td>Male</td>\n",
       "      <td>BAC 0.08</td>\n",
       "      <td>9999</td>\n",
       "      <td>No second crime</td>\n",
       "    </tr>\n",
       "    <tr>\n",
       "      <th>993</th>\n",
       "      <td>19</td>\n",
       "      <td>18-21</td>\n",
       "      <td>Married</td>\n",
       "      <td>Middle class</td>\n",
       "      <td>High school degree</td>\n",
       "      <td>No</td>\n",
       "      <td>Male</td>\n",
       "      <td>BAC 0.09</td>\n",
       "      <td>327</td>\n",
       "      <td>BAC 0.08</td>\n",
       "    </tr>\n",
       "    <tr>\n",
       "      <th>995</th>\n",
       "      <td>33</td>\n",
       "      <td>30-39</td>\n",
       "      <td>Unmarried</td>\n",
       "      <td>Lower class</td>\n",
       "      <td>High school degree</td>\n",
       "      <td>No</td>\n",
       "      <td>Male</td>\n",
       "      <td>BAC 0.08</td>\n",
       "      <td>9999</td>\n",
       "      <td>No second crime</td>\n",
       "    </tr>\n",
       "    <tr>\n",
       "      <th>997</th>\n",
       "      <td>20</td>\n",
       "      <td>18-21</td>\n",
       "      <td>Unmarried</td>\n",
       "      <td>Upper class</td>\n",
       "      <td>High school degree</td>\n",
       "      <td>Yes</td>\n",
       "      <td>Male</td>\n",
       "      <td>BAC 0.15 or higher</td>\n",
       "      <td>384</td>\n",
       "      <td>BAC 0.15 or higher</td>\n",
       "    </tr>\n",
       "    <tr>\n",
       "      <th>999</th>\n",
       "      <td>25</td>\n",
       "      <td>22-29</td>\n",
       "      <td>Married</td>\n",
       "      <td>Lower class</td>\n",
       "      <td>High school degree</td>\n",
       "      <td>No</td>\n",
       "      <td>Male</td>\n",
       "      <td>BAC 0.15 or higher</td>\n",
       "      <td>46</td>\n",
       "      <td>BAC 0.15 or higher</td>\n",
       "    </tr>\n",
       "  </tbody>\n",
       "</table>\n",
       "<p>402 rows × 10 columns</p>\n",
       "</div>"
      ],
      "text/plain": [
       "     age agecat    marital        social                  ed employ  gender  \\\n",
       "1     19  18-21  Unmarried   Lower class  High school degree     No  Female   \n",
       "3     36  30-39    Married   Upper class  High school degree    Yes    Male   \n",
       "4     27  22-29    Married  Middle class  High school degree     No    Male   \n",
       "5     29  22-29    Married  Middle class  High school degree    Yes    Male   \n",
       "6     24  22-29  Unmarried   Lower class  High school degree    Yes    Male   \n",
       "..   ...    ...        ...           ...                 ...    ...     ...   \n",
       "973   32  30-39    Married   Lower class  High school degree    Yes    Male   \n",
       "993   19  18-21    Married  Middle class  High school degree     No    Male   \n",
       "995   33  30-39  Unmarried   Lower class  High school degree     No    Male   \n",
       "997   20  18-21  Unmarried   Upper class  High school degree    Yes    Male   \n",
       "999   25  22-29    Married   Lower class  High school degree     No    Male   \n",
       "\n",
       "                 crime1  time              crime2  \n",
       "1              BAC 0.09   239    BAC 0.10 to 0.11  \n",
       "3              BAC 0.08  9999     No second crime  \n",
       "4              BAC 0.08  9999     No second crime  \n",
       "5    BAC 0.15 or higher   287    BAC 0.10 to 0.11  \n",
       "6      BAC 0.10 to 0.11   528            BAC 0.08  \n",
       "..                  ...   ...                 ...  \n",
       "973            BAC 0.08  9999     No second crime  \n",
       "993            BAC 0.09   327            BAC 0.08  \n",
       "995            BAC 0.08  9999     No second crime  \n",
       "997  BAC 0.15 or higher   384  BAC 0.15 or higher  \n",
       "999  BAC 0.15 or higher    46  BAC 0.15 or higher  \n",
       "\n",
       "[402 rows x 10 columns]"
      ]
     },
     "execution_count": 31,
     "metadata": {},
     "output_type": "execute_result"
    }
   ],
   "source": [
    "offwithhighschooldegree= df[df['ed']=='High school degree']\n",
    "offwithhighschooldegree"
   ]
  },
  {
   "cell_type": "code",
   "execution_count": 34,
   "metadata": {},
   "outputs": [
    {
     "data": {
      "text/plain": [
       "No second crime       140\n",
       "BAC 0.08               72\n",
       "BAC 0.09               66\n",
       "BAC 0.10 to 0.11       52\n",
       "BAC 0.12 to 0.14       37\n",
       "BAC 0.15 or higher     35\n",
       "Name: crime2, dtype: int64"
      ]
     },
     "execution_count": 34,
     "metadata": {},
     "output_type": "execute_result"
    }
   ],
   "source": [
    "offwithhighschooldegree['crime2'].value_counts()"
   ]
  },
  {
   "cell_type": "code",
   "execution_count": 35,
   "metadata": {},
   "outputs": [],
   "source": [
    "#Provide the number of married females aged 30-39 who were convicted of registering BAC of\n",
    "#0.15 or higher in their second conviction."
   ]
  },
  {
   "cell_type": "code",
   "execution_count": 51,
   "metadata": {},
   "outputs": [
    {
     "data": {
      "text/plain": [
       "BAC 0.15 or higher    2\n",
       "Name: crime2, dtype: int64"
      ]
     },
     "execution_count": 51,
     "metadata": {},
     "output_type": "execute_result"
    }
   ],
   "source": [
    "marriedfem=df[(df['marital']=='Married')& (df['gender']=='Female') & (df['agecat']=='30-39') & (df['crime2']=='BAC 0.15 or higher')]\n",
    "marriedfem['crime2'].value_counts()"
   ]
  },
  {
   "cell_type": "code",
   "execution_count": 52,
   "metadata": {},
   "outputs": [],
   "source": [
    "#Provide the number of unmarried females convicted of registering a BAC of 0.10 to 0.11 in their second crime."
   ]
  },
  {
   "cell_type": "code",
   "execution_count": 54,
   "metadata": {},
   "outputs": [
    {
     "data": {
      "text/html": [
       "<div>\n",
       "<style scoped>\n",
       "    .dataframe tbody tr th:only-of-type {\n",
       "        vertical-align: middle;\n",
       "    }\n",
       "\n",
       "    .dataframe tbody tr th {\n",
       "        vertical-align: top;\n",
       "    }\n",
       "\n",
       "    .dataframe thead th {\n",
       "        text-align: right;\n",
       "    }\n",
       "</style>\n",
       "<table border=\"1\" class=\"dataframe\">\n",
       "  <thead>\n",
       "    <tr style=\"text-align: right;\">\n",
       "      <th></th>\n",
       "      <th>age</th>\n",
       "      <th>agecat</th>\n",
       "      <th>marital</th>\n",
       "      <th>social</th>\n",
       "      <th>ed</th>\n",
       "      <th>employ</th>\n",
       "      <th>gender</th>\n",
       "      <th>crime1</th>\n",
       "      <th>time</th>\n",
       "      <th>crime2</th>\n",
       "    </tr>\n",
       "  </thead>\n",
       "  <tbody>\n",
       "    <tr>\n",
       "      <th>1</th>\n",
       "      <td>19</td>\n",
       "      <td>18-21</td>\n",
       "      <td>Unmarried</td>\n",
       "      <td>Lower class</td>\n",
       "      <td>High school degree</td>\n",
       "      <td>No</td>\n",
       "      <td>Female</td>\n",
       "      <td>BAC 0.09</td>\n",
       "      <td>239</td>\n",
       "      <td>BAC 0.10 to 0.11</td>\n",
       "    </tr>\n",
       "    <tr>\n",
       "      <th>24</th>\n",
       "      <td>24</td>\n",
       "      <td>22-29</td>\n",
       "      <td>Unmarried</td>\n",
       "      <td>Lower class</td>\n",
       "      <td>Did not complete high school</td>\n",
       "      <td>No</td>\n",
       "      <td>Female</td>\n",
       "      <td>BAC 0.12 to 0.14</td>\n",
       "      <td>708</td>\n",
       "      <td>BAC 0.10 to 0.11</td>\n",
       "    </tr>\n",
       "    <tr>\n",
       "      <th>43</th>\n",
       "      <td>22</td>\n",
       "      <td>22-29</td>\n",
       "      <td>Unmarried</td>\n",
       "      <td>Upper class</td>\n",
       "      <td>Did not complete high school</td>\n",
       "      <td>Yes</td>\n",
       "      <td>Female</td>\n",
       "      <td>BAC 0.08</td>\n",
       "      <td>449</td>\n",
       "      <td>BAC 0.10 to 0.11</td>\n",
       "    </tr>\n",
       "    <tr>\n",
       "      <th>127</th>\n",
       "      <td>44</td>\n",
       "      <td>40+</td>\n",
       "      <td>Unmarried</td>\n",
       "      <td>Lower class</td>\n",
       "      <td>High school degree</td>\n",
       "      <td>Yes</td>\n",
       "      <td>Female</td>\n",
       "      <td>BAC 0.09</td>\n",
       "      <td>155</td>\n",
       "      <td>BAC 0.10 to 0.11</td>\n",
       "    </tr>\n",
       "    <tr>\n",
       "      <th>219</th>\n",
       "      <td>28</td>\n",
       "      <td>22-29</td>\n",
       "      <td>Unmarried</td>\n",
       "      <td>Lower class</td>\n",
       "      <td>High school degree</td>\n",
       "      <td>Yes</td>\n",
       "      <td>Female</td>\n",
       "      <td>BAC 0.12 to 0.14</td>\n",
       "      <td>70</td>\n",
       "      <td>BAC 0.10 to 0.11</td>\n",
       "    </tr>\n",
       "    <tr>\n",
       "      <th>222</th>\n",
       "      <td>20</td>\n",
       "      <td>18-21</td>\n",
       "      <td>Unmarried</td>\n",
       "      <td>Middle class</td>\n",
       "      <td>Did not complete high school</td>\n",
       "      <td>No</td>\n",
       "      <td>Female</td>\n",
       "      <td>BAC 0.09</td>\n",
       "      <td>314</td>\n",
       "      <td>BAC 0.10 to 0.11</td>\n",
       "    </tr>\n",
       "    <tr>\n",
       "      <th>236</th>\n",
       "      <td>28</td>\n",
       "      <td>22-29</td>\n",
       "      <td>Unmarried</td>\n",
       "      <td>Lower class</td>\n",
       "      <td>Did not complete high school</td>\n",
       "      <td>Yes</td>\n",
       "      <td>Female</td>\n",
       "      <td>BAC 0.12 to 0.14</td>\n",
       "      <td>496</td>\n",
       "      <td>BAC 0.10 to 0.11</td>\n",
       "    </tr>\n",
       "    <tr>\n",
       "      <th>500</th>\n",
       "      <td>27</td>\n",
       "      <td>22-29</td>\n",
       "      <td>Unmarried</td>\n",
       "      <td>Lower class</td>\n",
       "      <td>High school degree</td>\n",
       "      <td>Yes</td>\n",
       "      <td>Female</td>\n",
       "      <td>BAC 0.08</td>\n",
       "      <td>677</td>\n",
       "      <td>BAC 0.10 to 0.11</td>\n",
       "    </tr>\n",
       "    <tr>\n",
       "      <th>520</th>\n",
       "      <td>22</td>\n",
       "      <td>22-29</td>\n",
       "      <td>Unmarried</td>\n",
       "      <td>Lower class</td>\n",
       "      <td>Did not complete high school</td>\n",
       "      <td>Yes</td>\n",
       "      <td>Female</td>\n",
       "      <td>BAC 0.08</td>\n",
       "      <td>532</td>\n",
       "      <td>BAC 0.10 to 0.11</td>\n",
       "    </tr>\n",
       "    <tr>\n",
       "      <th>935</th>\n",
       "      <td>19</td>\n",
       "      <td>18-21</td>\n",
       "      <td>Unmarried</td>\n",
       "      <td>Lower class</td>\n",
       "      <td>High school degree</td>\n",
       "      <td>Yes</td>\n",
       "      <td>Female</td>\n",
       "      <td>BAC 0.09</td>\n",
       "      <td>126</td>\n",
       "      <td>BAC 0.10 to 0.11</td>\n",
       "    </tr>\n",
       "  </tbody>\n",
       "</table>\n",
       "</div>"
      ],
      "text/plain": [
       "     age agecat    marital        social                            ed employ  \\\n",
       "1     19  18-21  Unmarried   Lower class            High school degree     No   \n",
       "24    24  22-29  Unmarried   Lower class  Did not complete high school     No   \n",
       "43    22  22-29  Unmarried   Upper class  Did not complete high school    Yes   \n",
       "127   44    40+  Unmarried   Lower class            High school degree    Yes   \n",
       "219   28  22-29  Unmarried   Lower class            High school degree    Yes   \n",
       "222   20  18-21  Unmarried  Middle class  Did not complete high school     No   \n",
       "236   28  22-29  Unmarried   Lower class  Did not complete high school    Yes   \n",
       "500   27  22-29  Unmarried   Lower class            High school degree    Yes   \n",
       "520   22  22-29  Unmarried   Lower class  Did not complete high school    Yes   \n",
       "935   19  18-21  Unmarried   Lower class            High school degree    Yes   \n",
       "\n",
       "     gender            crime1  time            crime2  \n",
       "1    Female          BAC 0.09   239  BAC 0.10 to 0.11  \n",
       "24   Female  BAC 0.12 to 0.14   708  BAC 0.10 to 0.11  \n",
       "43   Female          BAC 0.08   449  BAC 0.10 to 0.11  \n",
       "127  Female          BAC 0.09   155  BAC 0.10 to 0.11  \n",
       "219  Female  BAC 0.12 to 0.14    70  BAC 0.10 to 0.11  \n",
       "222  Female          BAC 0.09   314  BAC 0.10 to 0.11  \n",
       "236  Female  BAC 0.12 to 0.14   496  BAC 0.10 to 0.11  \n",
       "500  Female          BAC 0.08   677  BAC 0.10 to 0.11  \n",
       "520  Female          BAC 0.08   532  BAC 0.10 to 0.11  \n",
       "935  Female          BAC 0.09   126  BAC 0.10 to 0.11  "
      ]
     },
     "execution_count": 54,
     "metadata": {},
     "output_type": "execute_result"
    }
   ],
   "source": [
    "unmarriedfem=df[(df['marital']=='Unmarried')& (df['gender']=='Female')  & (df['crime2']=='BAC 0.10 to 0.11')]\n",
    "unmarriedfem"
   ]
  },
  {
   "cell_type": "code",
   "execution_count": 55,
   "metadata": {
    "ExecuteTime": {
     "end_time": "2021-06-10T05:17:10.463667Z",
     "start_time": "2021-06-10T05:17:10.447099Z"
    }
   },
   "outputs": [
    {
     "data": {
      "text/plain": [
       "BAC 0.10 to 0.11    10\n",
       "Name: crime2, dtype: int64"
      ]
     },
     "execution_count": 55,
     "metadata": {},
     "output_type": "execute_result"
    }
   ],
   "source": [
    "unmarriedfem.crime2.value_counts()"
   ]
  },
  {
   "cell_type": "markdown",
   "metadata": {},
   "source": [
    "#### Pieplot"
   ]
  },
  {
   "cell_type": "code",
   "execution_count": 61,
   "metadata": {
    "ExecuteTime": {
     "end_time": "2021-06-10T05:06:01.089224Z",
     "start_time": "2021-06-10T05:06:00.436894Z"
    }
   },
   "outputs": [
    {
     "data": {
      "image/png": "[encoded data removed]",
      "text/plain": [
       "<Figure size 792x720 with 1 Axes>"
      ]
     },
     "metadata": {},
     "output_type": "display_data"
    }
   ],
   "source": [
    "plt.figure(figsize=(11,10))\n",
    "plt.pie(df[\"crime2\"].value_counts(), labels=df[\"crime2\"].value_counts().index, autopct='%.2f%%') \n",
    "        #explode = (0.3,0,0,0,0,0,0,0,0,0,0,0,0,0,0,0,0,0))\n",
    "# autopct=\"%.2f%%\" is used here display the percentage in the pie-chart upto 1 deciaml place\n",
    "# explode is used here to take the 'Finance & Investment'(30%) of the pie-chart\n",
    "plt.show()"
   ]
  }
 ],
 "metadata": {
  "kernelspec": {
   "display_name": "Python 3 (ipykernel)",
   "language": "python",
   "name": "python3"
  },
  "language_info": {
   "codemirror_mode": {
    "name": "ipython",
    "version": 3
   },
   "file_extension": ".py",
   "mimetype": "text/x-python",
   "name": "python",
   "nbconvert_exporter": "python",
   "pygments_lexer": "ipython3",
   "version": "3.9.7"
  },
  "toc": {
   "base_numbering": 1,
   "nav_menu": {},
   "number_sections": true,
   "sideBar": true,
   "skip_h1_title": false,
   "title_cell": "Table of Contents",
   "title_sidebar": "Contents",
   "toc_cell": false,
   "toc_position": {},
   "toc_section_display": true,
   "toc_window_display": false
  }
 },
 "nbformat": 4,
 "nbformat_minor": 4
}
