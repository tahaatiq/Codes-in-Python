{
 "cells": [
  {
   "cell_type": "markdown",
   "metadata": {},
   "source": [
    "# Probability distribution for time using Maxwell Distribution"
   ]
  },
  {
   "cell_type": "code",
   "execution_count": 1,
   "metadata": {},
   "outputs": [],
   "source": [
    "# The module generate time distribution for random velocity following Maxwell-Boltzmann distribution"
   ]
  },
  {
   "cell_type": "code",
   "execution_count": 2,
   "metadata": {},
   "outputs": [],
   "source": [
    "import scipy.stats as stats          # importing all libraries \n",
    "import numpy as np\n",
    "import matplotlib.pyplot as plt\n",
    "import seaborn as sns\n",
    "\n",
    "sns.set()\n",
    "    \n",
    "m = 14*1.660538921e-27  # mass of Nitrogen converting into 'Kg'\n",
    "T = 298                 # Temperature\n",
    "kB = 1.3806503e-23      # Boltzmann constant \n",
    "\n",
    "l=1                     # length of a vessel or tube\n",
    "tlimit=1000\n",
    "t=np.arange(0,tlimit,40) #starting or transmitting time\n",
    "\n",
    "tyrandom=np.zeros(t.size) # initialisation of time array to record arrival time\n",
    "\n",
    "maxwell = stats.maxwell\n",
    "v = maxwell.rvs(loc=0,scale=.05,size=t.size) # generation of random velocity function using maxwell distribution\n",
    "\n",
    "tyrandom=np.ceil(l/v)  #calculating time using 'l/v'                   \n",
    "\n",
    "\n",
    "def time_dist(m, T, l,t,ty):      #calculating time distribution\n",
    "    v=l/abs(t-ty)\n",
    "    ft= (m/(2.*np.pi*kB*T))**1.5 * 4.*np.pi*v*v*v * np.exp((-m*v*v)/(2.*kB*T))\n",
    "    return ft\n"
   ]
  }
 ],
 "metadata": {
  "kernelspec": {
   "display_name": "Python 3 (ipykernel)",
   "language": "python",
   "name": "python3"
  },
  "language_info": {
   "codemirror_mode": {
    "name": "ipython",
    "version": 3
   },
   "file_extension": ".py",
   "mimetype": "text/x-python",
   "name": "python",
   "nbconvert_exporter": "python",
   "pygments_lexer": "ipython3",
   "version": "3.9.7"
  }
 },
 "nbformat": 4,
 "nbformat_minor": 4
}
