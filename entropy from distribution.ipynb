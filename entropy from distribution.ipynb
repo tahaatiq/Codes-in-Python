{
 "cells": [
  {
   "cell_type": "markdown",
   "metadata": {},
   "source": [
    "# There are three methods to calculate entropy "
   ]
  },
  {
   "cell_type": "code",
   "execution_count": 2,
   "metadata": {},
   "outputs": [],
   "source": [
    "import scipy.stats as stats          # importing all libraries \n",
    "import numpy as np\n",
    "import matplotlib.pyplot as plt\n",
    "import seaborn as sns\n",
    "\n",
    "sns.set()\n",
    "\n",
    "def calculate_probability(data):               #calculating probabilities using bincount\n",
    "    nvalue = len(data)\n",
    "    data = data.astype(int)                     #converting float type array into integer\n",
    "    counts = np.bincount(data)\n",
    "    p = counts[np.nonzero(counts)]/nvalue\n",
    "    return p                                    # return probability\n",
    "    \n",
    "def entropy_1(p):                               # Entropy method 1 taking probability as an arguement\n",
    "    H = -np.dot(p, np.log2(p))\n",
    "    return H                                    # return Entropy\n",
    "\n",
    "def entropy_2(p):                               # Entropy method 2\n",
    "    ent=np.zeros(len(p))\n",
    "\n",
    "    for i in range(len(p)):\n",
    "        ent[i] = -p[i] *np.log2(p[i])\n",
    "    H = sum(ent)\n",
    "    return H\n",
    "\n",
    "def entropy_3(p):                             #Entropy method 3\n",
    "    ety=-np.log2(p)\n",
    "    H = np.mean(ety)\n",
    "    return H\n",
    "    "
   ]
  },
  {
   "cell_type": "code",
   "execution_count": null,
   "metadata": {},
   "outputs": [],
   "source": []
  }
 ],
 "metadata": {
  "kernelspec": {
   "display_name": "Python 3 (ipykernel)",
   "language": "python",
   "name": "python3"
  },
  "language_info": {
   "codemirror_mode": {
    "name": "ipython",
    "version": 3
   },
   "file_extension": ".py",
   "mimetype": "text/x-python",
   "name": "python",
   "nbconvert_exporter": "python",
   "pygments_lexer": "ipython3",
   "version": "3.9.7"
  }
 },
 "nbformat": 4,
 "nbformat_minor": 4
}
